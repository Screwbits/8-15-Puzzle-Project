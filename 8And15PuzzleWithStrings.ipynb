{
  "nbformat": 4,
  "nbformat_minor": 0,
  "metadata": {
    "colab": {
      "name": "8And15PuzzleWithStrings.ipynb",
      "provenance": [],
      "collapsed_sections": [],
      "authorship_tag": "ABX9TyNZm5no1wWisLxTcwf6MLJs",
      "include_colab_link": true
    },
    "kernelspec": {
      "name": "python3",
      "display_name": "Python 3"
    },
    "language_info": {
      "name": "python"
    }
  },
  "cells": [
    {
      "cell_type": "markdown",
      "metadata": {
        "id": "view-in-github",
        "colab_type": "text"
      },
      "source": [
        "<a href=\"https://colab.research.google.com/github/Screwbits/8-15-Puzzle-Project/blob/main/8And15PuzzleWithStrings.ipynb\" target=\"_parent\"><img src=\"https://colab.research.google.com/assets/colab-badge.svg\" alt=\"Open In Colab\"/></a>"
      ]
    },
    {
      "cell_type": "code",
      "execution_count": null,
      "metadata": {
        "id": "-ePAw7bKdgG5"
      },
      "outputs": [],
      "source": [
        "#This will be important for copying data\n",
        "from copy import deepcopy\n",
        "import time"
      ]
    },
    {
      "cell_type": "code",
      "source": [
        "# Print out the value as a puzzle\n",
        "StateDimension = 3\n",
        "\n",
        "def PrintState(s):\n",
        "  for i in range(0,len(s),StateDimension):\n",
        "    print(s[i:i+StateDimension])  "
      ],
      "metadata": {
        "id": "RRz8Xfanhx4A"
      },
      "execution_count": 247,
      "outputs": []
    },
    {
      "cell_type": "code",
      "source": [
        "test = \"123456078\"\n",
        "# Problems that were given for 8 puzzle\n",
        "problem1 = \"160273485\" \n",
        "problem2 = \"462301587\" \n",
        "problem3 = \"821574360\" \n",
        "problem4 = \"840156372\" \n",
        "problem5 = \"530478126\" \n",
        "problem6 = \"068314257\" \n",
        "problem7 = \"453207186\" \n",
        "problem8 = \"128307645\" \n",
        "problem9 = \"035684712\" \n",
        "problem10 = \"684317025\" \n",
        "problem11 = \"028514637\" \n",
        "problem12 = \"618273540\" \n",
        "problem13 = \"042385671\" \n",
        "problem14 = \"420385716\" \n",
        "problem15 = \"054672813\" \n",
        "problem16 = \"314572680\" \n",
        "problem17 = \"637218045\" \n",
        "problem18 = \"430621875\" \n",
        "problem19 = \"158274036\" \n",
        "problem20 = \"130458726\"\n",
        "\n",
        "# Problems that were give for 15 puzzle\n",
        "easyProblem1 = \"16235A749C08DEBF\"\n",
        "easyProblem2 = \"0634217859ABDEFC\"\n",
        "easyProblem3 = \"012456379BC8DAEF\"\n",
        "easyProblem4 = \"51246A38097BDEFC\"\n",
        "easyProblem5 = \"12345678D9CFEBA0\"\n",
        "\n",
        "hardProblem1 = \"71A92CE03DB4658F\"\n",
        "hardProblem2 = \"02348697DF5A1EBC\"\n",
        "hardProblem3 = \"39A1D0EC7BF86452\"\n",
        "hardProblem4 = \"EAB480FC19D56237\"\n",
        "hardProblem5 = \"7DB13C52F46E80A9\"\n",
        "\n",
        "\n",
        "# This will be for all inital states so set them here\n",
        "initial_state = problem1"
      ],
      "metadata": {
        "id": "Wo0RC89e7IZJ"
      },
      "execution_count": 248,
      "outputs": []
    },
    {
      "cell_type": "code",
      "source": [
        "# initalize this to use\n",
        "def swap(c, i, j):\n",
        "  c = list(c)\n",
        "  c[i], c[j] = c[j], c[i]\n",
        "  return \"\".join(c)\n",
        "\n",
        "def checkNums(s):\n",
        "  if s == \"A\":\n",
        "    check = 10\n",
        "    return check\n",
        "  elif s == \"B\":\n",
        "    check = 11\n",
        "    return check\n",
        "  elif s == \"C\":\n",
        "    check = 12\n",
        "    return check\n",
        "  elif s == \"D\":\n",
        "    check = 13\n",
        "    return check\n",
        "  elif s == \"E\":\n",
        "    check = 14\n",
        "    return check\n",
        "  elif s == \"F\":\n",
        "    check = 15\n",
        "    return check\n",
        "  else:\n",
        "    check = int(s)\n",
        "    return check\n",
        "\n",
        "\n",
        "#This is a node class\n",
        "class Node:\n",
        "  # This is the goal state being used\n",
        "  # If you want to change it, change it here\n",
        "  GOAL = \"123456780\"\n",
        "\n",
        "  # This will define the node structure aka it's a constructor in Python\n",
        "  def __init__(self, state, parent, action, depth, cost, path_cost):\n",
        "    self.state = state # State of the puzzle\n",
        "    self.parent = parent # A parent Node\n",
        "    self.action = action # The action that will be taken\n",
        "    self.depth = depth # The depth of the node\n",
        "    self.cost = cost # The cost of the node\n",
        "    self.path_cost = path_cost # Total path cost of the node\n",
        "\n",
        "  def generate_node(self):\n",
        "    next = [] # This will hold the next states to be used\n",
        "    zero = self.state.index(\"0\") # This will find the position of zero in the state\n",
        "\n",
        "    # Create new nodes based on actions read\n",
        "    if StateDimension == 3:\n",
        "      # Checks if possible to move to up the tiles\n",
        "      if zero not in [0,1,2]:\n",
        "        # Second Param -3 applyed to zeros index up\n",
        "        new_state, move_cost = self.switch(zero, -3) # switch the moving titles\n",
        "        next.append(Node(new_state, self, \"u\", self.depth + 1, move_cost, self.path_cost + move_cost)) # New node gets added to next states\n",
        "\n",
        "      # Checks if possible to move to down the tiles\n",
        "      if zero not in [6,7,8]:\n",
        "        # Second Param 3 applyed to zeros index down\n",
        "        new_state, move_cost = self.switch(zero, 3) # switch the moving titles\n",
        "        next.append(Node(new_state, self, \"d\", self.depth + 1, move_cost, self.path_cost + move_cost)) # New node gets added to next states\n",
        "\n",
        "      # Checks if possible to move to the left\n",
        "      if zero not in [0,3,6]:\n",
        "        # Second Param -1 applyed to zeros index to the left\n",
        "        new_state, move_cost = self.switch(zero, -1) # switch the moving titles\n",
        "        next.append(Node(new_state, self, \"l\", self.depth + 1, move_cost, self.path_cost + move_cost)) # New node gets added to next states\n",
        "\n",
        "      # Possible to move title to the right\n",
        "      if zero not in [2,5,8]:\n",
        "        # Second param +1 applyed to zeros index to the right\n",
        "        new_state, move_cost = self.switch(zero, 1) # switch the moving titles\n",
        "        next.append(Node(new_state, self, \"r\", self.depth + 1, move_cost, self.path_cost + move_cost)) # New node gets added to next states\n",
        "\n",
        "    else: # This is really ment for the 15 puzzle so make sure it's set to \"4\" in the dimentions\n",
        "      # Checks if possible to move to up the tiles\n",
        "      if zero not in [0,1,2,3]:\n",
        "        # Second Param -3 applyed to zeros index up\n",
        "        new_state, move_cost = self.switch(zero, -4) # switch the moving titles\n",
        "        next.append(Node(new_state, self, \"u\", self.depth + 1, move_cost, self.path_cost + move_cost)) # New node gets added to next states\n",
        "\n",
        "      # Checks if possible to move to down the tiles\n",
        "      if zero not in [12,13,14,15]:\n",
        "        # Second Param 3 applyed to zeros index down\n",
        "        new_state, move_cost = self.switch(zero, 4) # switch the moving titles\n",
        "        next.append(Node(new_state, self, \"d\", self.depth + 1, move_cost, self.path_cost + move_cost)) # New node gets added to next states\n",
        "\n",
        "      # Checks if possible to move to the left\n",
        "      if zero not in [0,4,8,12]:\n",
        "        # Second Param -1 applyed to zeros index to the left\n",
        "        new_state, move_cost = self.switch(zero, -1) # switch the moving titles\n",
        "        next.append(Node(new_state, self, \"l\", self.depth + 1, move_cost, self.path_cost + move_cost)) # New node gets added to next states\n",
        "\n",
        "      # Possible to move title to the right\n",
        "      if zero not in [3,7,11,15]:\n",
        "        # Second param +1 applyed to zeros index to the right\n",
        "        new_state, move_cost = self.switch(zero, 1) # switch the moving titles\n",
        "        next.append(Node(new_state, self, \"r\", self.depth + 1, move_cost, self.path_cost + move_cost)) # New node gets added to next states\n",
        "\n",
        "    return next # Returns the newly generated states\n",
        "\n",
        "# This is where the deep copy comes in handy in acting like the C++ equivalant of the \"swap\" function\n",
        "  def switch(self, zero, move):\n",
        "    new_state = deepcopy(self.state)\n",
        "    temp1 = new_state[zero + move] # This will get the value of the move cost\n",
        "    temp2 = checkNums(temp1)\n",
        "    new_state = swap(new_state, zero, zero+move) # move zero (Change to '0' later)\n",
        "    return new_state, temp2\n",
        "\n",
        "# This is for tile calculations\n",
        "#-----------------------------------------------------\n",
        "  def outOfPlace(self):\n",
        "    outOfPlace = 0 # This will keep track of total tiles out of place\n",
        "    for i in range(0, len(self.GOAL) - 1):\n",
        "      # Check if the values are in their respective goal state\n",
        "      # If not added it to the counter\n",
        "      if self.GOAL[i] != self.state[i]:\n",
        "        outOfPlace += 1\n",
        "    return outOfPlace # Return the value of total tiles out of place\n",
        "\n",
        "  # Now to do the manhattan distance\n",
        "  def manhattan(self):\n",
        "    totalH = 0 # sum of manhattan distances\n",
        "    for elem in self.state:\n",
        "      # get the index of every single elem of initial and goal states\n",
        "      elem_index = self.state.index(elem)\n",
        "      goal_index = self.GOAL.index(elem)\n",
        "      # Remember: the length of one row is determined by the dimenstions\n",
        "      # X position of array is (1D array index // length of row in dimentions)\n",
        "      # Y position of array is (1D array index % length of row in dimentions)\n",
        "      # calculation for total manhattan distance is right down below\n",
        "      manhattan_dist = abs((goal_index // 3) - (elem_index // 3)) + abs((goal_index % 3) - (elem_index % 3))\n",
        "      totalH += manhattan_dist\n",
        "    return totalH\n",
        "\n",
        "\n",
        "  # This will be to solve whatever problem it might be\n",
        "def solvePuzzle(algorithm, initial_state):\n",
        "  print(\"Solving will now be done using...\", algorithm)\n",
        "  visited = [initial_state] # This will keep track of all the states visited\n",
        "  queue = [Node(initial_state, None, None, 0, 0, 0)] # This will be the root node\n",
        "  nodes_popped = 0 # Keep track of the amount of nodes popped off queue\n",
        "  max_queue = 0 # How many nodes where in the queue\n",
        "\n",
        "  while (len(queue) > 0): # This will keep visiting nodes while the queue is not empty\n",
        "    max_queue = max(max_queue, len(queue)) # Check the length of the queue before popping off\n",
        "    current_node = queue.pop() # pop off the queue and save value to current\n",
        "    nodes_popped += 1 # increment it\n",
        "    total_visited = len(visited)\n",
        "\n",
        "    if current_node.state == Node.GOAL: #This will check to see if the node is the goal\n",
        "      return \"Goal state obtained!\", current_node, nodes_popped, max_queue, total_visited\n",
        "    else:\n",
        "      next_states = current_node.generate_node() # generate new nodes\n",
        "      for node in next_states:\n",
        "        if node.state in visited: #Makes sure the nodes are new\n",
        "          visited.append(node.state) # This will added it to visited\n",
        "        \n",
        "        if algorithm == \"BFS\": # It does this since it's got FIFO behavior\n",
        "          queue.insert(0,node)\n",
        "        else: # Will also do DFS\n",
        "          queue.append(node)\n",
        "\n",
        "        if algorithm == \"UCS\": # This one was for myself\n",
        "          queue.sort(key = lambda node: node.path_cost, reverse=True)\n",
        "        elif algorithm == \"A*1\": # This will do A*Star searching using outOfPlace cost\n",
        "          queue.sort(key = lambda node: node.outOfPlace() + node.path_cost, reverse=True)\n",
        "        elif algorithm == \"A*2\": # This will do A*star searching using manhattan distance\n",
        "          queue.sort(key = lambda node: node.manhattan() + node.path_cost, reverse=True)\n",
        "\n",
        "  return \"Goal state Not found\", current_node, nodes_popped, max_queue, total_visited \n",
        "  # This will make sure it lets the user know when a value couldn't be found"
      ],
      "metadata": {
        "id": "0FCdy6XSeQaJ"
      },
      "execution_count": 249,
      "outputs": []
    },
    {
      "cell_type": "code",
      "source": [
        "# This will trace throught the root node and display everything\n",
        "def print_path(node):\n",
        "    node_trace = node\n",
        "\n",
        "    # Make a FIFO stack to place the trace\n",
        "    state_trace = [node_trace.state]\n",
        "    action_trace = [node_trace.action]\n",
        "    depth_trace = [node_trace.depth]\n",
        "    cost_trace = [node_trace.cost]\n",
        "    path_cost_trace = [node_trace.path_cost]\n",
        "     \n",
        "    # add the node information tracing up the tree\n",
        "    while node_trace.parent:\n",
        "      node_trace = node_trace.parent\n",
        "\n",
        "      state_trace.append(node_trace.state)\n",
        "      action_trace.append(node_trace.action)\n",
        "      depth_trace.append(node_trace.depth)\n",
        "      cost_trace.append(node_trace.cost)\n",
        "      path_cost_trace.append(node_trace.path_cost)\n",
        "      \n",
        "      # This will print out the path\n",
        "      steps = 0\n",
        "\n",
        "    while state_trace:\n",
        "      print('step',steps)\n",
        "      PrintState(state_trace.pop())\n",
        "      print('action:',action_trace.pop(),'| depth=', str(depth_trace.pop()),'| inital cost=', str(cost_trace.pop()),'| total cost=',\n",
        "             str(path_cost_trace.pop()) )\n",
        "      print()\n",
        "\n",
        "      steps += 1\n",
        "\n",
        "# This will print out all the movements taken\n",
        "def movements(node): # This will show the complete movement path as a string\n",
        "    state_temp_trace = [node.state]\n",
        "    action_path_trace = [node.action]\n",
        "    show_action = ''\n",
        "    peek = ''\n",
        "     \n",
        "    while node.parent:\n",
        "      node = node.parent\n",
        "      action_path_trace.append(node.action)\n",
        "\n",
        "    while action_path_trace:\n",
        "       peek = action_path_trace.pop()\n",
        "\n",
        "       if (peek == None):\n",
        "         peek = ''\n",
        "       else:\n",
        "         show_action = show_action + peek\n",
        "\n",
        "    print('Actions Taken:', str(show_action))\n",
        "\n",
        "# This is responsible for printing out the full path along with the steps taken to reach the result\n",
        "def PrintFullResult(algo, initial_state):\n",
        "  result, current_node, nodes_popped, max_queue, visited_nodes = solvePuzzle(algo, initial_state)\n",
        "\n",
        "  print(result)\n",
        "  print_path(current_node)\n",
        "  movements(current_node)\n",
        "  print(\"Nodes Visited:\", visited_nodes)\n",
        "  print(\"Nodes popped:\", nodes_popped)\n",
        "  print(\"Max Number in the queue at once: \", max_queue)"
      ],
      "metadata": {
        "id": "NCV8z0lrwCXx"
      },
      "execution_count": 245,
      "outputs": []
    },
    {
      "cell_type": "code",
      "source": [
        "# This will display for breadth first search\n",
        "algo = \"BFS\" \n",
        "\n",
        "PrintFullResult(algo, initial_state)\n",
        "#print('Time spent: %0.2fs' % (time.time()-start))\n"
      ],
      "metadata": {
        "colab": {
          "base_uri": "https://localhost:8080/",
          "height": 390
        },
        "id": "J-jLtdKxvz_h",
        "outputId": "de5a15e1-5a38-4dff-ec6c-ec2f09c2a06c"
      },
      "execution_count": null,
      "outputs": [
        {
          "output_type": "stream",
          "name": "stdout",
          "text": [
            "Solving will now be done using... BFS\n"
          ]
        },
        {
          "output_type": "error",
          "ename": "KeyboardInterrupt",
          "evalue": "ignored",
          "traceback": [
            "\u001b[0;31m---------------------------------------------------------------------------\u001b[0m",
            "\u001b[0;31mKeyboardInterrupt\u001b[0m                         Traceback (most recent call last)",
            "\u001b[0;32m<ipython-input-230-62699d0f0aa1>\u001b[0m in \u001b[0;36m<module>\u001b[0;34m()\u001b[0m\n\u001b[1;32m      2\u001b[0m \u001b[0malgo\u001b[0m \u001b[0;34m=\u001b[0m \u001b[0;34m\"BFS\"\u001b[0m\u001b[0;34m\u001b[0m\u001b[0;34m\u001b[0m\u001b[0m\n\u001b[1;32m      3\u001b[0m \u001b[0;34m\u001b[0m\u001b[0m\n\u001b[0;32m----> 4\u001b[0;31m \u001b[0mPrintFullResult\u001b[0m\u001b[0;34m(\u001b[0m\u001b[0malgo\u001b[0m\u001b[0;34m,\u001b[0m \u001b[0minitial_state\u001b[0m\u001b[0;34m)\u001b[0m\u001b[0;34m\u001b[0m\u001b[0;34m\u001b[0m\u001b[0m\n\u001b[0m\u001b[1;32m      5\u001b[0m \u001b[0;31m#print('Time spent: %0.2fs' % (time.time()-start))\u001b[0m\u001b[0;34m\u001b[0m\u001b[0;34m\u001b[0m\u001b[0;34m\u001b[0m\u001b[0m\n",
            "\u001b[0;32m<ipython-input-229-0b1020704c76>\u001b[0m in \u001b[0;36mPrintFullResult\u001b[0;34m(algo, initial_state)\u001b[0m\n\u001b[1;32m     55\u001b[0m \u001b[0;31m# This is responsible for printing out the full path along with the steps taken to reach the result\u001b[0m\u001b[0;34m\u001b[0m\u001b[0;34m\u001b[0m\u001b[0;34m\u001b[0m\u001b[0m\n\u001b[1;32m     56\u001b[0m \u001b[0;32mdef\u001b[0m \u001b[0mPrintFullResult\u001b[0m\u001b[0;34m(\u001b[0m\u001b[0malgo\u001b[0m\u001b[0;34m,\u001b[0m \u001b[0minitial_state\u001b[0m\u001b[0;34m)\u001b[0m\u001b[0;34m:\u001b[0m\u001b[0;34m\u001b[0m\u001b[0;34m\u001b[0m\u001b[0m\n\u001b[0;32m---> 57\u001b[0;31m   \u001b[0mresult\u001b[0m\u001b[0;34m,\u001b[0m \u001b[0mcurrent_node\u001b[0m\u001b[0;34m,\u001b[0m \u001b[0mnodes_popped\u001b[0m\u001b[0;34m,\u001b[0m \u001b[0mmax_queue\u001b[0m\u001b[0;34m,\u001b[0m \u001b[0mvisited_nodes\u001b[0m \u001b[0;34m=\u001b[0m \u001b[0msolvePuzzle\u001b[0m\u001b[0;34m(\u001b[0m\u001b[0malgo\u001b[0m\u001b[0;34m,\u001b[0m \u001b[0minitial_state\u001b[0m\u001b[0;34m)\u001b[0m\u001b[0;34m\u001b[0m\u001b[0;34m\u001b[0m\u001b[0m\n\u001b[0m\u001b[1;32m     58\u001b[0m \u001b[0;34m\u001b[0m\u001b[0m\n\u001b[1;32m     59\u001b[0m   \u001b[0mprint\u001b[0m\u001b[0;34m(\u001b[0m\u001b[0mresult\u001b[0m\u001b[0;34m)\u001b[0m\u001b[0;34m\u001b[0m\u001b[0;34m\u001b[0m\u001b[0m\n",
            "\u001b[0;32m<ipython-input-228-d431813f20ea>\u001b[0m in \u001b[0;36msolvePuzzle\u001b[0;34m(algorithm, initial_state)\u001b[0m\n\u001b[1;32m    159\u001b[0m \u001b[0;34m\u001b[0m\u001b[0m\n\u001b[1;32m    160\u001b[0m         \u001b[0;32mif\u001b[0m \u001b[0malgorithm\u001b[0m \u001b[0;34m==\u001b[0m \u001b[0;34m\"BFS\"\u001b[0m\u001b[0;34m:\u001b[0m \u001b[0;31m# It does this since it's got FIFO behavior\u001b[0m\u001b[0;34m\u001b[0m\u001b[0;34m\u001b[0m\u001b[0m\n\u001b[0;32m--> 161\u001b[0;31m           \u001b[0mqueue\u001b[0m\u001b[0;34m.\u001b[0m\u001b[0minsert\u001b[0m\u001b[0;34m(\u001b[0m\u001b[0;36m0\u001b[0m\u001b[0;34m,\u001b[0m\u001b[0mnode\u001b[0m\u001b[0;34m)\u001b[0m\u001b[0;34m\u001b[0m\u001b[0;34m\u001b[0m\u001b[0m\n\u001b[0m\u001b[1;32m    162\u001b[0m         \u001b[0;32melse\u001b[0m\u001b[0;34m:\u001b[0m \u001b[0;31m# Will also do DFS\u001b[0m\u001b[0;34m\u001b[0m\u001b[0;34m\u001b[0m\u001b[0m\n\u001b[1;32m    163\u001b[0m           \u001b[0mqueue\u001b[0m\u001b[0;34m.\u001b[0m\u001b[0mappend\u001b[0m\u001b[0;34m(\u001b[0m\u001b[0mnode\u001b[0m\u001b[0;34m)\u001b[0m\u001b[0;34m\u001b[0m\u001b[0;34m\u001b[0m\u001b[0m\n",
            "\u001b[0;31mKeyboardInterrupt\u001b[0m: "
          ]
        }
      ]
    },
    {
      "cell_type": "code",
      "source": [
        "# This is for Depth First Search\n",
        "algo = \"DFS\" \n",
        "PrintFullResult(algo, initial_state)"
      ],
      "metadata": {
        "colab": {
          "base_uri": "https://localhost:8080/"
        },
        "id": "9_Q688YguVBt",
        "outputId": "f35050c9-1bf8-4509-db1c-6eff23fa1453"
      },
      "execution_count": null,
      "outputs": [
        {
          "output_type": "stream",
          "name": "stdout",
          "text": [
            "Solving will now be done using... DFS\n",
            "Goal state obtained!\n",
            "step 0\n",
            "123\n",
            "456\n",
            "078\n",
            "action: None | depth= 0 | inital cost= 0 | total cost= 0\n",
            "\n",
            "step 1\n",
            "123\n",
            "456\n",
            "708\n",
            "action: r | depth= 1 | inital cost= 7 | total cost= 7\n",
            "\n",
            "step 2\n",
            "123\n",
            "456\n",
            "780\n",
            "action: r | depth= 2 | inital cost= 8 | total cost= 15\n",
            "\n",
            "Actions Taken: rr\n",
            "Nodes Visited: 2\n",
            "Nodes popped: 3\n",
            "Max Number in the queue at once:  4\n"
          ]
        }
      ]
    },
    {
      "cell_type": "code",
      "source": [
        "# This will display for breadth first search\n",
        "algo = \"UCS\" \n",
        "PrintFullResult(algo, initial_state)"
      ],
      "metadata": {
        "colab": {
          "base_uri": "https://localhost:8080/",
          "height": 372
        },
        "id": "urNlLETYugdA",
        "outputId": "2c2cc5a0-6f22-4a77-c390-c253a51fa074"
      },
      "execution_count": null,
      "outputs": [
        {
          "output_type": "stream",
          "name": "stdout",
          "text": [
            "Solving will now be done using... UCS\n"
          ]
        },
        {
          "output_type": "error",
          "ename": "IndexError",
          "evalue": "ignored",
          "traceback": [
            "\u001b[0;31m---------------------------------------------------------------------------\u001b[0m",
            "\u001b[0;31mIndexError\u001b[0m                                Traceback (most recent call last)",
            "\u001b[0;32m<ipython-input-243-907a5cff67e2>\u001b[0m in \u001b[0;36m<module>\u001b[0;34m()\u001b[0m\n\u001b[1;32m      1\u001b[0m \u001b[0;31m# This will display for breadth first search\u001b[0m\u001b[0;34m\u001b[0m\u001b[0;34m\u001b[0m\u001b[0;34m\u001b[0m\u001b[0m\n\u001b[1;32m      2\u001b[0m \u001b[0malgo\u001b[0m \u001b[0;34m=\u001b[0m \u001b[0;34m\"UCS\"\u001b[0m\u001b[0;34m\u001b[0m\u001b[0;34m\u001b[0m\u001b[0m\n\u001b[0;32m----> 3\u001b[0;31m \u001b[0mPrintFullResult\u001b[0m\u001b[0;34m(\u001b[0m\u001b[0malgo\u001b[0m\u001b[0;34m,\u001b[0m \u001b[0minitial_state\u001b[0m\u001b[0;34m)\u001b[0m\u001b[0;34m\u001b[0m\u001b[0;34m\u001b[0m\u001b[0m\n\u001b[0m",
            "\u001b[0;32m<ipython-input-236-0b1020704c76>\u001b[0m in \u001b[0;36mPrintFullResult\u001b[0;34m(algo, initial_state)\u001b[0m\n\u001b[1;32m     55\u001b[0m \u001b[0;31m# This is responsible for printing out the full path along with the steps taken to reach the result\u001b[0m\u001b[0;34m\u001b[0m\u001b[0;34m\u001b[0m\u001b[0;34m\u001b[0m\u001b[0m\n\u001b[1;32m     56\u001b[0m \u001b[0;32mdef\u001b[0m \u001b[0mPrintFullResult\u001b[0m\u001b[0;34m(\u001b[0m\u001b[0malgo\u001b[0m\u001b[0;34m,\u001b[0m \u001b[0minitial_state\u001b[0m\u001b[0;34m)\u001b[0m\u001b[0;34m:\u001b[0m\u001b[0;34m\u001b[0m\u001b[0;34m\u001b[0m\u001b[0m\n\u001b[0;32m---> 57\u001b[0;31m   \u001b[0mresult\u001b[0m\u001b[0;34m,\u001b[0m \u001b[0mcurrent_node\u001b[0m\u001b[0;34m,\u001b[0m \u001b[0mnodes_popped\u001b[0m\u001b[0;34m,\u001b[0m \u001b[0mmax_queue\u001b[0m\u001b[0;34m,\u001b[0m \u001b[0mvisited_nodes\u001b[0m \u001b[0;34m=\u001b[0m \u001b[0msolvePuzzle\u001b[0m\u001b[0;34m(\u001b[0m\u001b[0malgo\u001b[0m\u001b[0;34m,\u001b[0m \u001b[0minitial_state\u001b[0m\u001b[0;34m)\u001b[0m\u001b[0;34m\u001b[0m\u001b[0;34m\u001b[0m\u001b[0m\n\u001b[0m\u001b[1;32m     58\u001b[0m \u001b[0;34m\u001b[0m\u001b[0m\n\u001b[1;32m     59\u001b[0m   \u001b[0mprint\u001b[0m\u001b[0;34m(\u001b[0m\u001b[0mresult\u001b[0m\u001b[0;34m)\u001b[0m\u001b[0;34m\u001b[0m\u001b[0;34m\u001b[0m\u001b[0m\n",
            "\u001b[0;32m<ipython-input-242-b96345613090>\u001b[0m in \u001b[0;36msolvePuzzle\u001b[0;34m(algorithm, initial_state)\u001b[0m\n\u001b[1;32m    149\u001b[0m       \u001b[0;32mreturn\u001b[0m \u001b[0;34m\"Goal state obtained!\"\u001b[0m\u001b[0;34m,\u001b[0m \u001b[0mcurrent_node\u001b[0m\u001b[0;34m,\u001b[0m \u001b[0mnodes_popped\u001b[0m\u001b[0;34m,\u001b[0m \u001b[0mmax_queue\u001b[0m\u001b[0;34m,\u001b[0m \u001b[0mtotal_visited\u001b[0m\u001b[0;34m\u001b[0m\u001b[0;34m\u001b[0m\u001b[0m\n\u001b[1;32m    150\u001b[0m     \u001b[0;32melse\u001b[0m\u001b[0;34m:\u001b[0m\u001b[0;34m\u001b[0m\u001b[0;34m\u001b[0m\u001b[0m\n\u001b[0;32m--> 151\u001b[0;31m       \u001b[0mnext_states\u001b[0m \u001b[0;34m=\u001b[0m \u001b[0mcurrent_node\u001b[0m\u001b[0;34m.\u001b[0m\u001b[0mgenerate_node\u001b[0m\u001b[0;34m(\u001b[0m\u001b[0;34m)\u001b[0m \u001b[0;31m# generate new nodes\u001b[0m\u001b[0;34m\u001b[0m\u001b[0;34m\u001b[0m\u001b[0m\n\u001b[0m\u001b[1;32m    152\u001b[0m       \u001b[0;32mfor\u001b[0m \u001b[0mnode\u001b[0m \u001b[0;32min\u001b[0m \u001b[0mnext_states\u001b[0m\u001b[0;34m:\u001b[0m\u001b[0;34m\u001b[0m\u001b[0;34m\u001b[0m\u001b[0m\n\u001b[1;32m    153\u001b[0m         \u001b[0;32mif\u001b[0m \u001b[0mnode\u001b[0m\u001b[0;34m.\u001b[0m\u001b[0mstate\u001b[0m \u001b[0;32min\u001b[0m \u001b[0mvisited\u001b[0m\u001b[0;34m:\u001b[0m \u001b[0;31m#Makes sure the nodes are new\u001b[0m\u001b[0;34m\u001b[0m\u001b[0;34m\u001b[0m\u001b[0m\n",
            "\u001b[0;32m<ipython-input-242-b96345613090>\u001b[0m in \u001b[0;36mgenerate_node\u001b[0;34m(self)\u001b[0m\n\u001b[1;32m     84\u001b[0m       \u001b[0;32mif\u001b[0m \u001b[0mzero\u001b[0m \u001b[0;32mnot\u001b[0m \u001b[0;32min\u001b[0m \u001b[0;34m[\u001b[0m\u001b[0;36m12\u001b[0m\u001b[0;34m,\u001b[0m\u001b[0;36m13\u001b[0m\u001b[0;34m,\u001b[0m\u001b[0;36m14\u001b[0m\u001b[0;34m,\u001b[0m\u001b[0;36m15\u001b[0m\u001b[0;34m]\u001b[0m\u001b[0;34m:\u001b[0m\u001b[0;34m\u001b[0m\u001b[0;34m\u001b[0m\u001b[0m\n\u001b[1;32m     85\u001b[0m         \u001b[0;31m# Second Param 3 applyed to zeros index down\u001b[0m\u001b[0;34m\u001b[0m\u001b[0;34m\u001b[0m\u001b[0;34m\u001b[0m\u001b[0m\n\u001b[0;32m---> 86\u001b[0;31m         \u001b[0mnew_state\u001b[0m\u001b[0;34m,\u001b[0m \u001b[0mmove_cost\u001b[0m \u001b[0;34m=\u001b[0m \u001b[0mself\u001b[0m\u001b[0;34m.\u001b[0m\u001b[0mswitch\u001b[0m\u001b[0;34m(\u001b[0m\u001b[0mzero\u001b[0m\u001b[0;34m,\u001b[0m \u001b[0;36m4\u001b[0m\u001b[0;34m)\u001b[0m \u001b[0;31m# switch the moving titles\u001b[0m\u001b[0;34m\u001b[0m\u001b[0;34m\u001b[0m\u001b[0m\n\u001b[0m\u001b[1;32m     87\u001b[0m         \u001b[0mnext\u001b[0m\u001b[0;34m.\u001b[0m\u001b[0mappend\u001b[0m\u001b[0;34m(\u001b[0m\u001b[0mNode\u001b[0m\u001b[0;34m(\u001b[0m\u001b[0mnew_state\u001b[0m\u001b[0;34m,\u001b[0m \u001b[0mself\u001b[0m\u001b[0;34m,\u001b[0m \u001b[0;34m\"d\"\u001b[0m\u001b[0;34m,\u001b[0m \u001b[0mself\u001b[0m\u001b[0;34m.\u001b[0m\u001b[0mdepth\u001b[0m \u001b[0;34m+\u001b[0m \u001b[0;36m1\u001b[0m\u001b[0;34m,\u001b[0m \u001b[0mmove_cost\u001b[0m\u001b[0;34m,\u001b[0m \u001b[0mself\u001b[0m\u001b[0;34m.\u001b[0m\u001b[0mpath_cost\u001b[0m \u001b[0;34m+\u001b[0m \u001b[0mmove_cost\u001b[0m\u001b[0;34m)\u001b[0m\u001b[0;34m)\u001b[0m \u001b[0;31m# New node gets added to next states\u001b[0m\u001b[0;34m\u001b[0m\u001b[0;34m\u001b[0m\u001b[0m\n\u001b[1;32m     88\u001b[0m \u001b[0;34m\u001b[0m\u001b[0m\n",
            "\u001b[0;32m<ipython-input-242-b96345613090>\u001b[0m in \u001b[0;36mswitch\u001b[0;34m(self, zero, move)\u001b[0m\n\u001b[1;32m    104\u001b[0m   \u001b[0;32mdef\u001b[0m \u001b[0mswitch\u001b[0m\u001b[0;34m(\u001b[0m\u001b[0mself\u001b[0m\u001b[0;34m,\u001b[0m \u001b[0mzero\u001b[0m\u001b[0;34m,\u001b[0m \u001b[0mmove\u001b[0m\u001b[0;34m)\u001b[0m\u001b[0;34m:\u001b[0m\u001b[0;34m\u001b[0m\u001b[0;34m\u001b[0m\u001b[0m\n\u001b[1;32m    105\u001b[0m     \u001b[0mnew_state\u001b[0m \u001b[0;34m=\u001b[0m \u001b[0mdeepcopy\u001b[0m\u001b[0;34m(\u001b[0m\u001b[0mself\u001b[0m\u001b[0;34m.\u001b[0m\u001b[0mstate\u001b[0m\u001b[0;34m)\u001b[0m\u001b[0;34m\u001b[0m\u001b[0;34m\u001b[0m\u001b[0m\n\u001b[0;32m--> 106\u001b[0;31m     \u001b[0mtemp1\u001b[0m \u001b[0;34m=\u001b[0m \u001b[0mnew_state\u001b[0m\u001b[0;34m[\u001b[0m\u001b[0mzero\u001b[0m \u001b[0;34m+\u001b[0m \u001b[0mmove\u001b[0m\u001b[0;34m]\u001b[0m \u001b[0;31m# This will get the value of the move cost\u001b[0m\u001b[0;34m\u001b[0m\u001b[0;34m\u001b[0m\u001b[0m\n\u001b[0m\u001b[1;32m    107\u001b[0m     \u001b[0mtemp2\u001b[0m \u001b[0;34m=\u001b[0m \u001b[0mcheckNums\u001b[0m\u001b[0;34m(\u001b[0m\u001b[0mtemp1\u001b[0m\u001b[0;34m)\u001b[0m\u001b[0;34m\u001b[0m\u001b[0;34m\u001b[0m\u001b[0m\n\u001b[1;32m    108\u001b[0m     \u001b[0mnew_state\u001b[0m \u001b[0;34m=\u001b[0m \u001b[0mswap\u001b[0m\u001b[0;34m(\u001b[0m\u001b[0mnew_state\u001b[0m\u001b[0;34m,\u001b[0m \u001b[0mzero\u001b[0m\u001b[0;34m,\u001b[0m \u001b[0mzero\u001b[0m\u001b[0;34m+\u001b[0m\u001b[0mmove\u001b[0m\u001b[0;34m)\u001b[0m \u001b[0;31m# move zero (Change to '0' later)\u001b[0m\u001b[0;34m\u001b[0m\u001b[0;34m\u001b[0m\u001b[0m\n",
            "\u001b[0;31mIndexError\u001b[0m: string index out of range"
          ]
        }
      ]
    },
    {
      "cell_type": "code",
      "source": [
        "# This will do A* Out Of Place Search\n",
        "algo = \"A*1\" \n",
        "PrintFullResult(algo, initial_state)"
      ],
      "metadata": {
        "colab": {
          "base_uri": "https://localhost:8080/",
          "height": 372
        },
        "id": "LJ_I1_-rxsPa",
        "outputId": "31d457ff-b8e7-436a-bbae-62b61241fa4f"
      },
      "execution_count": null,
      "outputs": [
        {
          "output_type": "stream",
          "name": "stdout",
          "text": [
            "Solving will now be done using... A*1\n"
          ]
        },
        {
          "output_type": "error",
          "ename": "KeyboardInterrupt",
          "evalue": "ignored",
          "traceback": [
            "\u001b[0;31m---------------------------------------------------------------------------\u001b[0m",
            "\u001b[0;31mKeyboardInterrupt\u001b[0m                         Traceback (most recent call last)",
            "\u001b[0;32m<ipython-input-238-037ecade285a>\u001b[0m in \u001b[0;36m<module>\u001b[0;34m()\u001b[0m\n\u001b[1;32m      1\u001b[0m \u001b[0;31m# This will do A* Out Of Place Search\u001b[0m\u001b[0;34m\u001b[0m\u001b[0;34m\u001b[0m\u001b[0;34m\u001b[0m\u001b[0m\n\u001b[1;32m      2\u001b[0m \u001b[0malgo\u001b[0m \u001b[0;34m=\u001b[0m \u001b[0;34m\"A*1\"\u001b[0m\u001b[0;34m\u001b[0m\u001b[0;34m\u001b[0m\u001b[0m\n\u001b[0;32m----> 3\u001b[0;31m \u001b[0mPrintFullResult\u001b[0m\u001b[0;34m(\u001b[0m\u001b[0malgo\u001b[0m\u001b[0;34m,\u001b[0m \u001b[0minitial_state\u001b[0m\u001b[0;34m)\u001b[0m\u001b[0;34m\u001b[0m\u001b[0;34m\u001b[0m\u001b[0m\n\u001b[0m",
            "\u001b[0;32m<ipython-input-236-0b1020704c76>\u001b[0m in \u001b[0;36mPrintFullResult\u001b[0;34m(algo, initial_state)\u001b[0m\n\u001b[1;32m     55\u001b[0m \u001b[0;31m# This is responsible for printing out the full path along with the steps taken to reach the result\u001b[0m\u001b[0;34m\u001b[0m\u001b[0;34m\u001b[0m\u001b[0;34m\u001b[0m\u001b[0m\n\u001b[1;32m     56\u001b[0m \u001b[0;32mdef\u001b[0m \u001b[0mPrintFullResult\u001b[0m\u001b[0;34m(\u001b[0m\u001b[0malgo\u001b[0m\u001b[0;34m,\u001b[0m \u001b[0minitial_state\u001b[0m\u001b[0;34m)\u001b[0m\u001b[0;34m:\u001b[0m\u001b[0;34m\u001b[0m\u001b[0;34m\u001b[0m\u001b[0m\n\u001b[0;32m---> 57\u001b[0;31m   \u001b[0mresult\u001b[0m\u001b[0;34m,\u001b[0m \u001b[0mcurrent_node\u001b[0m\u001b[0;34m,\u001b[0m \u001b[0mnodes_popped\u001b[0m\u001b[0;34m,\u001b[0m \u001b[0mmax_queue\u001b[0m\u001b[0;34m,\u001b[0m \u001b[0mvisited_nodes\u001b[0m \u001b[0;34m=\u001b[0m \u001b[0msolvePuzzle\u001b[0m\u001b[0;34m(\u001b[0m\u001b[0malgo\u001b[0m\u001b[0;34m,\u001b[0m \u001b[0minitial_state\u001b[0m\u001b[0;34m)\u001b[0m\u001b[0;34m\u001b[0m\u001b[0;34m\u001b[0m\u001b[0m\n\u001b[0m\u001b[1;32m     58\u001b[0m \u001b[0;34m\u001b[0m\u001b[0m\n\u001b[1;32m     59\u001b[0m   \u001b[0mprint\u001b[0m\u001b[0;34m(\u001b[0m\u001b[0mresult\u001b[0m\u001b[0;34m)\u001b[0m\u001b[0;34m\u001b[0m\u001b[0;34m\u001b[0m\u001b[0m\n",
            "\u001b[0;32m<ipython-input-235-d431813f20ea>\u001b[0m in \u001b[0;36msolvePuzzle\u001b[0;34m(algorithm, initial_state)\u001b[0m\n\u001b[1;32m    166\u001b[0m           \u001b[0mqueue\u001b[0m\u001b[0;34m.\u001b[0m\u001b[0msort\u001b[0m\u001b[0;34m(\u001b[0m\u001b[0mkey\u001b[0m \u001b[0;34m=\u001b[0m \u001b[0;32mlambda\u001b[0m \u001b[0mnode\u001b[0m\u001b[0;34m:\u001b[0m \u001b[0mnode\u001b[0m\u001b[0;34m.\u001b[0m\u001b[0mpath_cost\u001b[0m\u001b[0;34m,\u001b[0m \u001b[0mreverse\u001b[0m\u001b[0;34m=\u001b[0m\u001b[0;32mTrue\u001b[0m\u001b[0;34m)\u001b[0m\u001b[0;34m\u001b[0m\u001b[0;34m\u001b[0m\u001b[0m\n\u001b[1;32m    167\u001b[0m         \u001b[0;32melif\u001b[0m \u001b[0malgorithm\u001b[0m \u001b[0;34m==\u001b[0m \u001b[0;34m\"A*1\"\u001b[0m\u001b[0;34m:\u001b[0m \u001b[0;31m# This will do A*Star searching using outOfPlace cost\u001b[0m\u001b[0;34m\u001b[0m\u001b[0;34m\u001b[0m\u001b[0m\n\u001b[0;32m--> 168\u001b[0;31m           \u001b[0mqueue\u001b[0m\u001b[0;34m.\u001b[0m\u001b[0msort\u001b[0m\u001b[0;34m(\u001b[0m\u001b[0mkey\u001b[0m \u001b[0;34m=\u001b[0m \u001b[0;32mlambda\u001b[0m \u001b[0mnode\u001b[0m\u001b[0;34m:\u001b[0m \u001b[0mnode\u001b[0m\u001b[0;34m.\u001b[0m\u001b[0moutOfPlace\u001b[0m\u001b[0;34m(\u001b[0m\u001b[0;34m)\u001b[0m \u001b[0;34m+\u001b[0m \u001b[0mnode\u001b[0m\u001b[0;34m.\u001b[0m\u001b[0mpath_cost\u001b[0m\u001b[0;34m,\u001b[0m \u001b[0mreverse\u001b[0m\u001b[0;34m=\u001b[0m\u001b[0;32mTrue\u001b[0m\u001b[0;34m)\u001b[0m\u001b[0;34m\u001b[0m\u001b[0;34m\u001b[0m\u001b[0m\n\u001b[0m\u001b[1;32m    169\u001b[0m         \u001b[0;32melif\u001b[0m \u001b[0malgorithm\u001b[0m \u001b[0;34m==\u001b[0m \u001b[0;34m\"A*2\"\u001b[0m\u001b[0;34m:\u001b[0m \u001b[0;31m# This will do A*star searching using manhattan distance\u001b[0m\u001b[0;34m\u001b[0m\u001b[0;34m\u001b[0m\u001b[0m\n\u001b[1;32m    170\u001b[0m           \u001b[0mqueue\u001b[0m\u001b[0;34m.\u001b[0m\u001b[0msort\u001b[0m\u001b[0;34m(\u001b[0m\u001b[0mkey\u001b[0m \u001b[0;34m=\u001b[0m \u001b[0;32mlambda\u001b[0m \u001b[0mnode\u001b[0m\u001b[0;34m:\u001b[0m \u001b[0mnode\u001b[0m\u001b[0;34m.\u001b[0m\u001b[0mmanhattan\u001b[0m\u001b[0;34m(\u001b[0m\u001b[0;34m)\u001b[0m \u001b[0;34m+\u001b[0m \u001b[0mnode\u001b[0m\u001b[0;34m.\u001b[0m\u001b[0mpath_cost\u001b[0m\u001b[0;34m,\u001b[0m \u001b[0mreverse\u001b[0m\u001b[0;34m=\u001b[0m\u001b[0;32mTrue\u001b[0m\u001b[0;34m)\u001b[0m\u001b[0;34m\u001b[0m\u001b[0;34m\u001b[0m\u001b[0m\n",
            "\u001b[0;32m<ipython-input-235-d431813f20ea>\u001b[0m in \u001b[0;36m<lambda>\u001b[0;34m(node)\u001b[0m\n\u001b[1;32m    166\u001b[0m           \u001b[0mqueue\u001b[0m\u001b[0;34m.\u001b[0m\u001b[0msort\u001b[0m\u001b[0;34m(\u001b[0m\u001b[0mkey\u001b[0m \u001b[0;34m=\u001b[0m \u001b[0;32mlambda\u001b[0m \u001b[0mnode\u001b[0m\u001b[0;34m:\u001b[0m \u001b[0mnode\u001b[0m\u001b[0;34m.\u001b[0m\u001b[0mpath_cost\u001b[0m\u001b[0;34m,\u001b[0m \u001b[0mreverse\u001b[0m\u001b[0;34m=\u001b[0m\u001b[0;32mTrue\u001b[0m\u001b[0;34m)\u001b[0m\u001b[0;34m\u001b[0m\u001b[0;34m\u001b[0m\u001b[0m\n\u001b[1;32m    167\u001b[0m         \u001b[0;32melif\u001b[0m \u001b[0malgorithm\u001b[0m \u001b[0;34m==\u001b[0m \u001b[0;34m\"A*1\"\u001b[0m\u001b[0;34m:\u001b[0m \u001b[0;31m# This will do A*Star searching using outOfPlace cost\u001b[0m\u001b[0;34m\u001b[0m\u001b[0;34m\u001b[0m\u001b[0m\n\u001b[0;32m--> 168\u001b[0;31m           \u001b[0mqueue\u001b[0m\u001b[0;34m.\u001b[0m\u001b[0msort\u001b[0m\u001b[0;34m(\u001b[0m\u001b[0mkey\u001b[0m \u001b[0;34m=\u001b[0m \u001b[0;32mlambda\u001b[0m \u001b[0mnode\u001b[0m\u001b[0;34m:\u001b[0m \u001b[0mnode\u001b[0m\u001b[0;34m.\u001b[0m\u001b[0moutOfPlace\u001b[0m\u001b[0;34m(\u001b[0m\u001b[0;34m)\u001b[0m \u001b[0;34m+\u001b[0m \u001b[0mnode\u001b[0m\u001b[0;34m.\u001b[0m\u001b[0mpath_cost\u001b[0m\u001b[0;34m,\u001b[0m \u001b[0mreverse\u001b[0m\u001b[0;34m=\u001b[0m\u001b[0;32mTrue\u001b[0m\u001b[0;34m)\u001b[0m\u001b[0;34m\u001b[0m\u001b[0;34m\u001b[0m\u001b[0m\n\u001b[0m\u001b[1;32m    169\u001b[0m         \u001b[0;32melif\u001b[0m \u001b[0malgorithm\u001b[0m \u001b[0;34m==\u001b[0m \u001b[0;34m\"A*2\"\u001b[0m\u001b[0;34m:\u001b[0m \u001b[0;31m# This will do A*star searching using manhattan distance\u001b[0m\u001b[0;34m\u001b[0m\u001b[0;34m\u001b[0m\u001b[0m\n\u001b[1;32m    170\u001b[0m           \u001b[0mqueue\u001b[0m\u001b[0;34m.\u001b[0m\u001b[0msort\u001b[0m\u001b[0;34m(\u001b[0m\u001b[0mkey\u001b[0m \u001b[0;34m=\u001b[0m \u001b[0;32mlambda\u001b[0m \u001b[0mnode\u001b[0m\u001b[0;34m:\u001b[0m \u001b[0mnode\u001b[0m\u001b[0;34m.\u001b[0m\u001b[0mmanhattan\u001b[0m\u001b[0;34m(\u001b[0m\u001b[0;34m)\u001b[0m \u001b[0;34m+\u001b[0m \u001b[0mnode\u001b[0m\u001b[0;34m.\u001b[0m\u001b[0mpath_cost\u001b[0m\u001b[0;34m,\u001b[0m \u001b[0mreverse\u001b[0m\u001b[0;34m=\u001b[0m\u001b[0;32mTrue\u001b[0m\u001b[0;34m)\u001b[0m\u001b[0;34m\u001b[0m\u001b[0;34m\u001b[0m\u001b[0m\n",
            "\u001b[0;32m<ipython-input-235-d431813f20ea>\u001b[0m in \u001b[0;36moutOfPlace\u001b[0;34m(self)\u001b[0m\n\u001b[1;32m    116\u001b[0m       \u001b[0;31m# Check if the values are in their respective goal state\u001b[0m\u001b[0;34m\u001b[0m\u001b[0;34m\u001b[0m\u001b[0;34m\u001b[0m\u001b[0m\n\u001b[1;32m    117\u001b[0m       \u001b[0;31m# If not added it to the counter\u001b[0m\u001b[0;34m\u001b[0m\u001b[0;34m\u001b[0m\u001b[0;34m\u001b[0m\u001b[0m\n\u001b[0;32m--> 118\u001b[0;31m       \u001b[0;32mif\u001b[0m \u001b[0mself\u001b[0m\u001b[0;34m.\u001b[0m\u001b[0mGOAL\u001b[0m\u001b[0;34m[\u001b[0m\u001b[0mi\u001b[0m\u001b[0;34m]\u001b[0m \u001b[0;34m!=\u001b[0m \u001b[0mself\u001b[0m\u001b[0;34m.\u001b[0m\u001b[0mstate\u001b[0m\u001b[0;34m[\u001b[0m\u001b[0mi\u001b[0m\u001b[0;34m]\u001b[0m\u001b[0;34m:\u001b[0m\u001b[0;34m\u001b[0m\u001b[0;34m\u001b[0m\u001b[0m\n\u001b[0m\u001b[1;32m    119\u001b[0m         \u001b[0moutOfPlace\u001b[0m \u001b[0;34m+=\u001b[0m \u001b[0;36m1\u001b[0m\u001b[0;34m\u001b[0m\u001b[0;34m\u001b[0m\u001b[0m\n\u001b[1;32m    120\u001b[0m     \u001b[0;32mreturn\u001b[0m \u001b[0moutOfPlace\u001b[0m \u001b[0;31m# Return the value of total tiles out of place\u001b[0m\u001b[0;34m\u001b[0m\u001b[0;34m\u001b[0m\u001b[0m\n",
            "\u001b[0;31mKeyboardInterrupt\u001b[0m: "
          ]
        }
      ]
    },
    {
      "cell_type": "code",
      "source": [
        "# This will do A* Manhattan Distance Search\n",
        "algo = \"A*2\" \n",
        "PrintFullResult(algo, initial_state)"
      ],
      "metadata": {
        "colab": {
          "base_uri": "https://localhost:8080/",
          "height": 372
        },
        "id": "yNtJPTKpyiP-",
        "outputId": "2be62d82-7a69-49ef-c8b3-fd2ddf7cd303"
      },
      "execution_count": 250,
      "outputs": [
        {
          "output_type": "stream",
          "name": "stdout",
          "text": [
            "Solving will now be done using... A*2\n"
          ]
        },
        {
          "output_type": "error",
          "ename": "KeyboardInterrupt",
          "evalue": "ignored",
          "traceback": [
            "\u001b[0;31m---------------------------------------------------------------------------\u001b[0m",
            "\u001b[0;31mKeyboardInterrupt\u001b[0m                         Traceback (most recent call last)",
            "\u001b[0;32m<ipython-input-250-2048d45a3e42>\u001b[0m in \u001b[0;36m<module>\u001b[0;34m()\u001b[0m\n\u001b[1;32m      1\u001b[0m \u001b[0;31m# This will do A* Manhattan Distance Search\u001b[0m\u001b[0;34m\u001b[0m\u001b[0;34m\u001b[0m\u001b[0;34m\u001b[0m\u001b[0m\n\u001b[1;32m      2\u001b[0m \u001b[0malgo\u001b[0m \u001b[0;34m=\u001b[0m \u001b[0;34m\"A*2\"\u001b[0m\u001b[0;34m\u001b[0m\u001b[0;34m\u001b[0m\u001b[0m\n\u001b[0;32m----> 3\u001b[0;31m \u001b[0mPrintFullResult\u001b[0m\u001b[0;34m(\u001b[0m\u001b[0malgo\u001b[0m\u001b[0;34m,\u001b[0m \u001b[0minitial_state\u001b[0m\u001b[0;34m)\u001b[0m\u001b[0;34m\u001b[0m\u001b[0;34m\u001b[0m\u001b[0m\n\u001b[0m",
            "\u001b[0;32m<ipython-input-245-0b1020704c76>\u001b[0m in \u001b[0;36mPrintFullResult\u001b[0;34m(algo, initial_state)\u001b[0m\n\u001b[1;32m     55\u001b[0m \u001b[0;31m# This is responsible for printing out the full path along with the steps taken to reach the result\u001b[0m\u001b[0;34m\u001b[0m\u001b[0;34m\u001b[0m\u001b[0;34m\u001b[0m\u001b[0m\n\u001b[1;32m     56\u001b[0m \u001b[0;32mdef\u001b[0m \u001b[0mPrintFullResult\u001b[0m\u001b[0;34m(\u001b[0m\u001b[0malgo\u001b[0m\u001b[0;34m,\u001b[0m \u001b[0minitial_state\u001b[0m\u001b[0;34m)\u001b[0m\u001b[0;34m:\u001b[0m\u001b[0;34m\u001b[0m\u001b[0;34m\u001b[0m\u001b[0m\n\u001b[0;32m---> 57\u001b[0;31m   \u001b[0mresult\u001b[0m\u001b[0;34m,\u001b[0m \u001b[0mcurrent_node\u001b[0m\u001b[0;34m,\u001b[0m \u001b[0mnodes_popped\u001b[0m\u001b[0;34m,\u001b[0m \u001b[0mmax_queue\u001b[0m\u001b[0;34m,\u001b[0m \u001b[0mvisited_nodes\u001b[0m \u001b[0;34m=\u001b[0m \u001b[0msolvePuzzle\u001b[0m\u001b[0;34m(\u001b[0m\u001b[0malgo\u001b[0m\u001b[0;34m,\u001b[0m \u001b[0minitial_state\u001b[0m\u001b[0;34m)\u001b[0m\u001b[0;34m\u001b[0m\u001b[0;34m\u001b[0m\u001b[0m\n\u001b[0m\u001b[1;32m     58\u001b[0m \u001b[0;34m\u001b[0m\u001b[0m\n\u001b[1;32m     59\u001b[0m   \u001b[0mprint\u001b[0m\u001b[0;34m(\u001b[0m\u001b[0mresult\u001b[0m\u001b[0;34m)\u001b[0m\u001b[0;34m\u001b[0m\u001b[0;34m\u001b[0m\u001b[0m\n",
            "\u001b[0;32m<ipython-input-249-d431813f20ea>\u001b[0m in \u001b[0;36msolvePuzzle\u001b[0;34m(algorithm, initial_state)\u001b[0m\n\u001b[1;32m    168\u001b[0m           \u001b[0mqueue\u001b[0m\u001b[0;34m.\u001b[0m\u001b[0msort\u001b[0m\u001b[0;34m(\u001b[0m\u001b[0mkey\u001b[0m \u001b[0;34m=\u001b[0m \u001b[0;32mlambda\u001b[0m \u001b[0mnode\u001b[0m\u001b[0;34m:\u001b[0m \u001b[0mnode\u001b[0m\u001b[0;34m.\u001b[0m\u001b[0moutOfPlace\u001b[0m\u001b[0;34m(\u001b[0m\u001b[0;34m)\u001b[0m \u001b[0;34m+\u001b[0m \u001b[0mnode\u001b[0m\u001b[0;34m.\u001b[0m\u001b[0mpath_cost\u001b[0m\u001b[0;34m,\u001b[0m \u001b[0mreverse\u001b[0m\u001b[0;34m=\u001b[0m\u001b[0;32mTrue\u001b[0m\u001b[0;34m)\u001b[0m\u001b[0;34m\u001b[0m\u001b[0;34m\u001b[0m\u001b[0m\n\u001b[1;32m    169\u001b[0m         \u001b[0;32melif\u001b[0m \u001b[0malgorithm\u001b[0m \u001b[0;34m==\u001b[0m \u001b[0;34m\"A*2\"\u001b[0m\u001b[0;34m:\u001b[0m \u001b[0;31m# This will do A*star searching using manhattan distance\u001b[0m\u001b[0;34m\u001b[0m\u001b[0;34m\u001b[0m\u001b[0m\n\u001b[0;32m--> 170\u001b[0;31m           \u001b[0mqueue\u001b[0m\u001b[0;34m.\u001b[0m\u001b[0msort\u001b[0m\u001b[0;34m(\u001b[0m\u001b[0mkey\u001b[0m \u001b[0;34m=\u001b[0m \u001b[0;32mlambda\u001b[0m \u001b[0mnode\u001b[0m\u001b[0;34m:\u001b[0m \u001b[0mnode\u001b[0m\u001b[0;34m.\u001b[0m\u001b[0mmanhattan\u001b[0m\u001b[0;34m(\u001b[0m\u001b[0;34m)\u001b[0m \u001b[0;34m+\u001b[0m \u001b[0mnode\u001b[0m\u001b[0;34m.\u001b[0m\u001b[0mpath_cost\u001b[0m\u001b[0;34m,\u001b[0m \u001b[0mreverse\u001b[0m\u001b[0;34m=\u001b[0m\u001b[0;32mTrue\u001b[0m\u001b[0;34m)\u001b[0m\u001b[0;34m\u001b[0m\u001b[0;34m\u001b[0m\u001b[0m\n\u001b[0m\u001b[1;32m    171\u001b[0m \u001b[0;34m\u001b[0m\u001b[0m\n\u001b[1;32m    172\u001b[0m   \u001b[0;32mreturn\u001b[0m \u001b[0;34m\"Goal state Not found\"\u001b[0m\u001b[0;34m,\u001b[0m \u001b[0mcurrent_node\u001b[0m\u001b[0;34m,\u001b[0m \u001b[0mnodes_popped\u001b[0m\u001b[0;34m,\u001b[0m \u001b[0mmax_queue\u001b[0m\u001b[0;34m,\u001b[0m \u001b[0mtotal_visited\u001b[0m\u001b[0;34m\u001b[0m\u001b[0;34m\u001b[0m\u001b[0m\n",
            "\u001b[0;32m<ipython-input-249-d431813f20ea>\u001b[0m in \u001b[0;36m<lambda>\u001b[0;34m(node)\u001b[0m\n\u001b[1;32m    168\u001b[0m           \u001b[0mqueue\u001b[0m\u001b[0;34m.\u001b[0m\u001b[0msort\u001b[0m\u001b[0;34m(\u001b[0m\u001b[0mkey\u001b[0m \u001b[0;34m=\u001b[0m \u001b[0;32mlambda\u001b[0m \u001b[0mnode\u001b[0m\u001b[0;34m:\u001b[0m \u001b[0mnode\u001b[0m\u001b[0;34m.\u001b[0m\u001b[0moutOfPlace\u001b[0m\u001b[0;34m(\u001b[0m\u001b[0;34m)\u001b[0m \u001b[0;34m+\u001b[0m \u001b[0mnode\u001b[0m\u001b[0;34m.\u001b[0m\u001b[0mpath_cost\u001b[0m\u001b[0;34m,\u001b[0m \u001b[0mreverse\u001b[0m\u001b[0;34m=\u001b[0m\u001b[0;32mTrue\u001b[0m\u001b[0;34m)\u001b[0m\u001b[0;34m\u001b[0m\u001b[0;34m\u001b[0m\u001b[0m\n\u001b[1;32m    169\u001b[0m         \u001b[0;32melif\u001b[0m \u001b[0malgorithm\u001b[0m \u001b[0;34m==\u001b[0m \u001b[0;34m\"A*2\"\u001b[0m\u001b[0;34m:\u001b[0m \u001b[0;31m# This will do A*star searching using manhattan distance\u001b[0m\u001b[0;34m\u001b[0m\u001b[0;34m\u001b[0m\u001b[0m\n\u001b[0;32m--> 170\u001b[0;31m           \u001b[0mqueue\u001b[0m\u001b[0;34m.\u001b[0m\u001b[0msort\u001b[0m\u001b[0;34m(\u001b[0m\u001b[0mkey\u001b[0m \u001b[0;34m=\u001b[0m \u001b[0;32mlambda\u001b[0m \u001b[0mnode\u001b[0m\u001b[0;34m:\u001b[0m \u001b[0mnode\u001b[0m\u001b[0;34m.\u001b[0m\u001b[0mmanhattan\u001b[0m\u001b[0;34m(\u001b[0m\u001b[0;34m)\u001b[0m \u001b[0;34m+\u001b[0m \u001b[0mnode\u001b[0m\u001b[0;34m.\u001b[0m\u001b[0mpath_cost\u001b[0m\u001b[0;34m,\u001b[0m \u001b[0mreverse\u001b[0m\u001b[0;34m=\u001b[0m\u001b[0;32mTrue\u001b[0m\u001b[0;34m)\u001b[0m\u001b[0;34m\u001b[0m\u001b[0;34m\u001b[0m\u001b[0m\n\u001b[0m\u001b[1;32m    171\u001b[0m \u001b[0;34m\u001b[0m\u001b[0m\n\u001b[1;32m    172\u001b[0m   \u001b[0;32mreturn\u001b[0m \u001b[0;34m\"Goal state Not found\"\u001b[0m\u001b[0;34m,\u001b[0m \u001b[0mcurrent_node\u001b[0m\u001b[0;34m,\u001b[0m \u001b[0mnodes_popped\u001b[0m\u001b[0;34m,\u001b[0m \u001b[0mmax_queue\u001b[0m\u001b[0;34m,\u001b[0m \u001b[0mtotal_visited\u001b[0m\u001b[0;34m\u001b[0m\u001b[0;34m\u001b[0m\u001b[0m\n",
            "\u001b[0;32m<ipython-input-249-d431813f20ea>\u001b[0m in \u001b[0;36mmanhattan\u001b[0;34m(self)\u001b[0m\n\u001b[1;32m    132\u001b[0m       \u001b[0;31m# calculation for total manhattan distance is right down below\u001b[0m\u001b[0;34m\u001b[0m\u001b[0;34m\u001b[0m\u001b[0;34m\u001b[0m\u001b[0m\n\u001b[1;32m    133\u001b[0m       \u001b[0mmanhattan_dist\u001b[0m \u001b[0;34m=\u001b[0m \u001b[0mabs\u001b[0m\u001b[0;34m(\u001b[0m\u001b[0;34m(\u001b[0m\u001b[0mgoal_index\u001b[0m \u001b[0;34m//\u001b[0m \u001b[0;36m3\u001b[0m\u001b[0;34m)\u001b[0m \u001b[0;34m-\u001b[0m \u001b[0;34m(\u001b[0m\u001b[0melem_index\u001b[0m \u001b[0;34m//\u001b[0m \u001b[0;36m3\u001b[0m\u001b[0;34m)\u001b[0m\u001b[0;34m)\u001b[0m \u001b[0;34m+\u001b[0m \u001b[0mabs\u001b[0m\u001b[0;34m(\u001b[0m\u001b[0;34m(\u001b[0m\u001b[0mgoal_index\u001b[0m \u001b[0;34m%\u001b[0m \u001b[0;36m3\u001b[0m\u001b[0;34m)\u001b[0m \u001b[0;34m-\u001b[0m \u001b[0;34m(\u001b[0m\u001b[0melem_index\u001b[0m \u001b[0;34m%\u001b[0m \u001b[0;36m3\u001b[0m\u001b[0;34m)\u001b[0m\u001b[0;34m)\u001b[0m\u001b[0;34m\u001b[0m\u001b[0;34m\u001b[0m\u001b[0m\n\u001b[0;32m--> 134\u001b[0;31m       \u001b[0mtotalH\u001b[0m \u001b[0;34m+=\u001b[0m \u001b[0mmanhattan_dist\u001b[0m\u001b[0;34m\u001b[0m\u001b[0;34m\u001b[0m\u001b[0m\n\u001b[0m\u001b[1;32m    135\u001b[0m     \u001b[0;32mreturn\u001b[0m \u001b[0mtotalH\u001b[0m\u001b[0;34m\u001b[0m\u001b[0;34m\u001b[0m\u001b[0m\n\u001b[1;32m    136\u001b[0m \u001b[0;34m\u001b[0m\u001b[0m\n",
            "\u001b[0;31mKeyboardInterrupt\u001b[0m: "
          ]
        }
      ]
    }
  ]
}